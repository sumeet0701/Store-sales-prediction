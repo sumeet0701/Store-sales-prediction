{
 "cells": [
  {
   "cell_type": "code",
   "execution_count": 2,
   "id": "67110292",
   "metadata": {
    "colab": {
     "base_uri": "https://localhost:8080/"
    },
    "collapsed": true,
    "executionInfo": {
     "elapsed": 4380,
     "status": "ok",
     "timestamp": 1654600009681,
     "user": {
      "displayName": "Sayan Saha",
      "userId": "14035823151145784235"
     },
     "user_tz": -330
    },
    "id": "_FaOUV-Z2EiO",
    "outputId": "469a53d8-0fcd-4062-9f31-a1357a6b0c67"
   },
   "outputs": [
    {
     "name": "stdout",
     "output_type": "stream",
     "text": [
      "Looking in indexes: https://pypi.org/simple, https://us-python.pkg.dev/colab-wheels/public/simple/\n",
      "Collecting kneed\n",
      "  Downloading kneed-0.7.0-py2.py3-none-any.whl (9.4 kB)\n",
      "Requirement already satisfied: scipy in /usr/local/lib/python3.7/dist-packages (from kneed) (1.4.1)\n",
      "Requirement already satisfied: matplotlib in /usr/local/lib/python3.7/dist-packages (from kneed) (3.2.2)\n",
      "Requirement already satisfied: numpy>=1.14.2 in /usr/local/lib/python3.7/dist-packages (from kneed) (1.21.6)\n",
      "Requirement already satisfied: kiwisolver>=1.0.1 in /usr/local/lib/python3.7/dist-packages (from matplotlib->kneed) (1.4.2)\n",
      "Requirement already satisfied: cycler>=0.10 in /usr/local/lib/python3.7/dist-packages (from matplotlib->kneed) (0.11.0)\n",
      "Requirement already satisfied: python-dateutil>=2.1 in /usr/local/lib/python3.7/dist-packages (from matplotlib->kneed) (2.8.2)\n",
      "Requirement already satisfied: pyparsing!=2.0.4,!=2.1.2,!=2.1.6,>=2.0.1 in /usr/local/lib/python3.7/dist-packages (from matplotlib->kneed) (3.0.9)\n",
      "Requirement already satisfied: typing-extensions in /usr/local/lib/python3.7/dist-packages (from kiwisolver>=1.0.1->matplotlib->kneed) (4.2.0)\n",
      "Requirement already satisfied: six>=1.5 in /usr/local/lib/python3.7/dist-packages (from python-dateutil>=2.1->matplotlib->kneed) (1.15.0)\n",
      "Installing collected packages: kneed\n",
      "Successfully installed kneed-0.7.0\n"
     ]
    }
   ],
   "source": [
    "pip install kneed"
   ]
  },
  {
   "cell_type": "code",
   "execution_count": 3,
   "id": "660df327",
   "metadata": {
    "executionInfo": {
     "elapsed": 1365,
     "status": "ok",
     "timestamp": 1654600019305,
     "user": {
      "displayName": "Sayan Saha",
      "userId": "14035823151145784235"
     },
     "user_tz": -330
    },
    "id": "c4d7063a"
   },
   "outputs": [],
   "source": [
    "import pandas as pd\n",
    "import numpy as np\n",
    "import os\n",
    "import pickle\n",
    "import matplotlib.pyplot as plt\n",
    "from sklearn.impute import KNNImputer\n",
    "from sklearn.preprocessing import StandardScaler, LabelEncoder, OneHotEncoder\n",
    "from sklearn.model_selection import train_test_split\n",
    "from sklearn.cluster import KMeans\n",
    "from kneed import KneeLocator\n",
    "from sklearn.metrics import r2_score, mean_squared_error\n",
    "from sklearn.linear_model import LinearRegression, Ridge, Lasso\n",
    "from sklearn.tree import DecisionTreeRegressor\n",
    "from sklearn import tree\n",
    "from sklearn.ensemble import RandomForestRegressor\n",
    "from sklearn.svm import SVR\n",
    "from xgboost import XGBRegressor\n",
    "from sklearn.model_selection import GridSearchCV, RandomizedSearchCV"
   ]
  },
  {
   "cell_type": "code",
   "execution_count": 5,
   "id": "511d7f65",
   "metadata": {
    "colab": {
     "base_uri": "https://localhost:8080/",
     "height": 35
    },
    "executionInfo": {
     "elapsed": 1183,
     "status": "ok",
     "timestamp": 1654600083330,
     "user": {
      "displayName": "Sayan Saha",
      "userId": "14035823151145784235"
     },
     "user_tz": -330
    },
    "id": "bTaJYkNY3mHT",
    "outputId": "23b14437-19e1-4886-9155-cecc2228556a"
   },
   "outputs": [
    {
     "data": {
      "application/vnd.google.colaboratory.intrinsic+json": {
       "type": "string"
      },
      "text/plain": [
       "'/content/drive/MyDrive/Internship/Store Sales Prediction/Store_Sales_Prediction/Jupyter Notebooks'"
      ]
     },
     "execution_count": 5,
     "metadata": {},
     "output_type": "execute_result"
    }
   ],
   "source": [
    "ROOT='/content/drive/MyDrive/Store_Sales_Prediction/Jupyter Notebooks'\n",
    "os.chdir(ROOT)\n",
    "os.getcwd()"
   ]
  },
  {
   "cell_type": "code",
   "execution_count": 7,
   "id": "df273ac3",
   "metadata": {
    "executionInfo": {
     "elapsed": 445,
     "status": "ok",
     "timestamp": 1654600140690,
     "user": {
      "displayName": "Sayan Saha",
      "userId": "14035823151145784235"
     },
     "user_tz": -330
    },
    "id": "c196cf09"
   },
   "outputs": [],
   "source": [
    "train=pd.read_csv('Train.csv')\n",
    "x=train.drop(columns=['Item_Outlet_Sales'])\n",
    "y=train['Item_Outlet_Sales']\n",
    "x_train, x_test, y_train, y_test = train_test_split(x, y, test_size=0.2, random_state=100)"
   ]
  },
  {
   "cell_type": "markdown",
   "id": "33f17ea5",
   "metadata": {
    "id": "9f17f147"
   },
   "source": [
    "# Clustering"
   ]
  },
  {
   "cell_type": "code",
   "execution_count": 8,
   "id": "bdd7f9c1",
   "metadata": {
    "executionInfo": {
     "elapsed": 464,
     "status": "ok",
     "timestamp": 1654600152309,
     "user": {
      "displayName": "Sayan Saha",
      "userId": "14035823151145784235"
     },
     "user_tz": -330
    },
    "id": "b2419ee9"
   },
   "outputs": [],
   "source": [
    "def create_cluster(data):\n",
    "    wcss=[]\n",
    "    for i in range(1,11):\n",
    "        kmeans=KMeans(n_clusters=i, init='k-means++',random_state=42)\n",
    "        kmeans.fit(data)\n",
    "        wcss.append(kmeans.inertia_)\n",
    "    if not os.path.isdir('preprocessing_data'):\n",
    "        os.mkdir('preprocessing_data')\n",
    "    plt.plot(range(1,11),wcss) # creating the graph between WCSS and the number of clusters\n",
    "    plt.title('The Elbow Method')\n",
    "    plt.xlabel('Number of clusters')\n",
    "    plt.ylabel('WCSS')\n",
    "    plt.savefig('preprocessing_data/K-Means_Elbow.PNG') \n",
    "    \n",
    "    kn = KneeLocator(range(1, 11), wcss, curve='convex', direction='decreasing')\n",
    "    total_clusters=kn.knee\n",
    "    kmeans_final=KMeans(n_clusters=total_clusters, init='k-means++',random_state=42)\n",
    "    clusters=kmeans_final.fit_predict(data)\n",
    "    data['Cluster']=clusters\n",
    "    \n",
    "    if not os.path.isdir('Clustering'):\n",
    "        os.mkdir('Clustering')\n",
    "    pickle.dump(kmeans_final, open('Clustering/cluster.pickle', 'wb'))\n",
    "    return data"
   ]
  },
  {
   "cell_type": "markdown",
   "id": "11037c55",
   "metadata": {
    "id": "059a3c39"
   },
   "source": [
    "# Training Pipeline"
   ]
  },
  {
   "cell_type": "code",
   "execution_count": 9,
   "id": "ab473110",
   "metadata": {
    "executionInfo": {
     "elapsed": 11,
     "status": "ok",
     "timestamp": 1654600152769,
     "user": {
      "displayName": "Sayan Saha",
      "userId": "14035823151145784235"
     },
     "user_tz": -330
    },
    "id": "c7110a14"
   },
   "outputs": [],
   "source": [
    "def train_preprocessing_pipeline(x_train, y_train):\n",
    "    data=pd.concat([x_train, y_train], axis=1)\n",
    "    data=data.reset_index(drop=True)\n",
    "    #dropping unnecessary column\n",
    "    data=data.drop(columns=['Item_Type'])\n",
    "    \n",
    "    #editing dataset\n",
    "    data['Item_Visibility'].replace(0, np.nan, inplace=True)\n",
    "    \n",
    "    data['Item_Fat_Content'].replace('low fat', 'Low Fat', inplace=True)\n",
    "    data['Item_Fat_Content'].replace('LF', 'Low Fat', inplace=True)\n",
    "    data['Item_Fat_Content'].replace('reg', 'Low Fat', inplace=True)\n",
    "    \n",
    "    data['Item_Identifier']=data['Item_Identifier'].apply(lambda x : x[:2])\n",
    "    \n",
    "    data['Outlet_Age']=2013-data['Outlet_Establishment_Year']\n",
    "    data=data.drop(columns=['Outlet_Establishment_Year'])\n",
    "    \n",
    "    data.loc[data['Item_Identifier']==\"NC\",'Item_Fat_Content']='Non Edible'\n",
    "    \n",
    "    #encoding categorical values\n",
    "    data['Outlet_Size']=data['Outlet_Size'].map({'Small':0, 'Medium': 1, 'High': 2})\n",
    "    \n",
    "    onehot_col=['Item_Identifier', 'Item_Fat_Content',  'Outlet_Identifier', 'Outlet_Type', 'Outlet_Location_Type']\n",
    "    onehot_enc=OneHotEncoder(drop=\"first\", sparse=False)\n",
    "    enc_array=onehot_enc.fit_transform(data[onehot_col])\n",
    "    enc_df=pd.DataFrame(enc_array, columns=onehot_enc.get_feature_names_out())\n",
    "    data=data.drop(columns=onehot_col)\n",
    "    data=pd.concat([data, enc_df], axis=1)\n",
    "    if not os.path.isdir('Encoding'):\n",
    "        os.mkdir('Encoding')\n",
    "    pickle.dump(onehot_enc, open('Encoding/encoder.pickle', 'wb'))\n",
    "    \n",
    "    #imputing missing value\n",
    "    imputer=KNNImputer(n_neighbors=3, weights='uniform',missing_values=np.nan)\n",
    "    new_array=imputer.fit_transform(data) # impute the missing values\n",
    "    data=pd.DataFrame(data=new_array, columns=data.columns)\n",
    "    data['Outlet_Size']=np.round(data['Outlet_Size'])\n",
    "    \n",
    "    #scaling numerical values\n",
    "    num_cols=['Item_Weight', 'Item_Visibility', 'Item_MRP', 'Outlet_Age']\n",
    "    num_df=data[num_cols]\n",
    "    cat_output_df=data.drop(columns=num_cols) #categorical and output columns\n",
    "    scaler=StandardScaler()\n",
    "    num_array=scaler.fit_transform(num_df)\n",
    "    num_df=pd.DataFrame(num_array, columns=num_df.columns)\n",
    "    if not os.path.isdir('Scaling'):\n",
    "        os.mkdir('Scaling')\n",
    "    pickle.dump(scaler, open('Scaling/scaler.pickle', 'wb'))\n",
    "    data=pd.concat([num_df, cat_output_df], axis=1)\n",
    "    \n",
    "    #clustering\n",
    "    x=data.drop(columns=['Item_Outlet_Sales'])\n",
    "    y=data['Item_Outlet_Sales']\n",
    "    x=create_cluster(x)\n",
    "    data=pd.concat([x,y], axis=1)\n",
    "    return data"
   ]
  },
  {
   "cell_type": "markdown",
   "id": "f50df282",
   "metadata": {
    "id": "a2913a25"
   },
   "source": [
    "# Testing Pipeline"
   ]
  },
  {
   "cell_type": "code",
   "execution_count": 10,
   "id": "a59e0fef",
   "metadata": {
    "executionInfo": {
     "elapsed": 532,
     "status": "ok",
     "timestamp": 1654600153292,
     "user": {
      "displayName": "Sayan Saha",
      "userId": "14035823151145784235"
     },
     "user_tz": -330
    },
    "id": "20ea44be"
   },
   "outputs": [],
   "source": [
    "def test_preprocessing_pipeline(x_train, y_train):\n",
    "    \n",
    "    data=pd.concat([x_train, y_train], axis=1)\n",
    "    data=data.reset_index(drop=True)\n",
    "    \n",
    "    #dropping unnecessary column\n",
    "    data=data.drop(columns=['Item_Type'])\n",
    "    \n",
    "    #editing dataset\n",
    "    data['Item_Visibility'].replace(0, np.nan, inplace=True)\n",
    "    \n",
    "    data['Item_Fat_Content'].replace('low fat', 'Low Fat', inplace=True)\n",
    "    data['Item_Fat_Content'].replace('LF', 'Low Fat', inplace=True)\n",
    "    data['Item_Fat_Content'].replace('reg', 'Low Fat', inplace=True)\n",
    "    \n",
    "    data['Item_Identifier']=data['Item_Identifier'].apply(lambda x : x[:2])\n",
    "    \n",
    "    data['Outlet_Age']=2013-data['Outlet_Establishment_Year']\n",
    "    data=data.drop(columns=['Outlet_Establishment_Year'])\n",
    "    \n",
    "    data.loc[data['Item_Identifier']==\"NC\",'Item_Fat_Content']='Non Edible'\n",
    "    \n",
    "    #encoding categorical values\n",
    "    data['Outlet_Size']=data['Outlet_Size'].map({'Small':0, 'Medium': 1, 'High': 2})\n",
    "    \n",
    "    onehot_col=['Item_Identifier', 'Item_Fat_Content', 'Outlet_Identifier',  'Outlet_Type', 'Outlet_Location_Type']\n",
    "    onehot_enc=pickle.load(open('Encoding/encoder.pickle', 'rb'))\n",
    "    enc_array=onehot_enc.transform(data[onehot_col])\n",
    "    enc_df=pd.DataFrame(enc_array, columns=onehot_enc.get_feature_names_out())\n",
    "    data=data.drop(columns=onehot_col)\n",
    "    data=pd.concat([data, enc_df], axis=1)\n",
    "    \n",
    "    #imputing missing value\n",
    "    imputer=KNNImputer(n_neighbors=3, weights='uniform',missing_values=np.nan)\n",
    "    new_array=imputer.fit_transform(data) # impute the missing values\n",
    "    data=pd.DataFrame(data=new_array, columns=data.columns)\n",
    "    data['Outlet_Size']=np.round(data['Outlet_Size'])\n",
    "    \n",
    "    #scaling numerical values\n",
    "    num_cols=['Item_Weight', 'Item_Visibility', 'Item_MRP', 'Outlet_Age']\n",
    "    num_df=data[num_cols]\n",
    "    cat_output_df=data.drop(columns=num_cols) #categorical and output columns\n",
    "    scaler=pickle.load(open('Scaling/scaler.pickle', 'rb'))\n",
    "    num_array=scaler.transform(num_df)\n",
    "    num_df=pd.DataFrame(num_array, columns=num_df.columns)\n",
    "    data=pd.concat([num_df, cat_output_df], axis=1)\n",
    "    \n",
    "    #clustering\n",
    "    x=data.drop(columns=['Item_Outlet_Sales'])\n",
    "    y=data['Item_Outlet_Sales']\n",
    "    \n",
    "    kmeans=pickle.load(open('Clustering/cluster.pickle', 'rb'))\n",
    "    clusters=kmeans.predict(x)\n",
    "    x['Cluster']=clusters\n",
    "    data=pd.concat([x,y], axis=1)\n",
    "    return data"
   ]
  },
  {
   "cell_type": "markdown",
   "id": "deea5d45",
   "metadata": {
    "id": "0d0966ac"
   },
   "source": [
    "# Processsed data"
   ]
  },
  {
   "cell_type": "code",
   "execution_count": 11,
   "id": "5b00e289",
   "metadata": {
    "colab": {
     "base_uri": "https://localhost:8080/",
     "height": 295
    },
    "executionInfo": {
     "elapsed": 11551,
     "status": "ok",
     "timestamp": 1654600164837,
     "user": {
      "displayName": "Sayan Saha",
      "userId": "14035823151145784235"
     },
     "user_tz": -330
    },
    "id": "ae7cd4f3",
    "outputId": "0aabe713-85f6-4e5d-9ea4-c7b8ccd59d53"
   },
   "outputs": [
    {
     "data": {
      "image/png": "[encoded data removed]",
      "text/plain": [
       "<Figure size 432x288 with 1 Axes>"
      ]
     },
     "metadata": {
      "needs_background": "light"
     },
     "output_type": "display_data"
    }
   ],
   "source": [
    "train_df=train_preprocessing_pipeline(x_train, y_train)\n",
    "test_df=test_preprocessing_pipeline(x_test, y_test)"
   ]
  },
  {
   "cell_type": "code",
   "execution_count": 12,
   "id": "43bee790",
   "metadata": {
    "colab": {
     "base_uri": "https://localhost:8080/"
    },
    "executionInfo": {
     "elapsed": 45,
     "status": "ok",
     "timestamp": 1654600164841,
     "user": {
      "displayName": "Sayan Saha",
      "userId": "14035823151145784235"
     },
     "user_tz": -330
    },
    "id": "4c9280b7",
    "outputId": "ed1b33fd-e213-4180-ff1d-12ee6cb9a939"
   },
   "outputs": [
    {
     "data": {
      "text/plain": [
       "array([1, 3, 2, 0], dtype=int32)"
      ]
     },
     "execution_count": 12,
     "metadata": {},
     "output_type": "execute_result"
    }
   ],
   "source": [
    "train_df['Cluster'].unique()"
   ]
  },
  {
   "cell_type": "code",
   "execution_count": 12,
   "id": "80028217",
   "metadata": {
    "executionInfo": {
     "elapsed": 35,
     "status": "ok",
     "timestamp": 1654600164844,
     "user": {
      "displayName": "Sayan Saha",
      "userId": "14035823151145784235"
     },
     "user_tz": -330
    },
    "id": "a13e680e"
   },
   "outputs": [],
   "source": []
  },
  {
   "cell_type": "code",
   "execution_count": 13,
   "id": "1162651a",
   "metadata": {
    "executionInfo": {
     "elapsed": 34,
     "status": "ok",
     "timestamp": 1654600164845,
     "user": {
      "displayName": "Sayan Saha",
      "userId": "14035823151145784235"
     },
     "user_tz": -330
    },
    "id": "eR5td1Fs9CRW"
   },
   "outputs": [],
   "source": [
    "def get_best_param_xgb(x_train, y_train, x_test, y_test):\n",
    "  best_params={}\n",
    "\n",
    "  param1={'eta' : [i/100 for i in range(1,20)]}\n",
    "  param2={'max_depth' : range(3,10,1)}\n",
    "  param3={'gamma' : [i/10 for i in range(1,10)]}\n",
    "  param4={'subsample':[i/100.0 for i in range(70,100,5)]}\n",
    "  param5={'colsample_bytree':[i/100.0 for i in range(70,100,3)]}\n",
    "  param6={'alpha' : np.arange(0.1, 10, 0.1)}\n",
    "  param7={'n_estimators':range(10,100,5)}\n",
    "\n",
    "  parameters=[param1, param2, param3, param4, param5, param6, param7]\n",
    "\n",
    "  for param in parameters:\n",
    "    grid=GridSearchCV(XGBRegressor(objective='reg:squarederror'), param, cv=5, n_jobs=-1)\n",
    "    grid.fit(x_train, y_train)\n",
    "    best_params.update(grid.best_params_)\n",
    "\n",
    "  eta=best_params['eta']\n",
    "  max_depth=best_params['max_depth']\n",
    "  gamma=best_params['gamma']\n",
    "  subsample=best_params['subsample']\n",
    "  colsample_bytree=best_params['colsample_bytree']\n",
    "  alpha=best_params['eta']\n",
    "  n_estimators=best_params['n_estimators']\n",
    "\n",
    "  model=XGBRegressor(objective='reg:squarederror', eta=eta, max_depth=max_depth,  gamma=gamma, subsample=subsample, colsample_bytree=colsample_bytree, alpha=alpha, n_estimators=n_estimators)\n",
    "  model.fit(x_train, y_train)\n",
    "  y_pred=model.predict(x_test)\n",
    "\n",
    "  r2=r2_score(y_test, y_pred)\n",
    "  return model, r2\n",
    "  # print('R2_score', r2_score(test_0_y, y_pred))\n",
    "  # print('RMSE', np.sqrt(mean_squared_error(test_0_y, y_pred)))\n"
   ]
  },
  {
   "cell_type": "code",
   "execution_count": 14,
   "id": "d0c71a89",
   "metadata": {
    "executionInfo": {
     "elapsed": 34,
     "status": "ok",
     "timestamp": 1654600164847,
     "user": {
      "displayName": "Sayan Saha",
      "userId": "14035823151145784235"
     },
     "user_tz": -330
    },
    "id": "VYEWmprQOc2q"
   },
   "outputs": [],
   "source": [
    "def get_best_param_rf(x_train, y_train, x_test, y_test):\n",
    "    best_params={}\n",
    "\n",
    "    param1={'criterion': ['squared_error', 'absolute_error']}\n",
    "    param2={'max_depth' : range(3,10,1)}\n",
    "    param3={'max_features' : [i/100.0 for i in range(70,100,3)]}\n",
    "    param4={'max_samples' : [i/100.0 for i in range(70,100,5)]}\n",
    "    param5={'n_estimators':range(10,100,5)}\n",
    "\n",
    "\n",
    "    parameters=[param1, param2, param3, param4, param5]\n",
    "\n",
    "    for param in parameters:\n",
    "      grid=GridSearchCV(RandomForestRegressor(), param, cv=5, n_jobs=-1)\n",
    "      grid.fit(x_train, y_train)\n",
    "      best_params.update(grid.best_params_)\n",
    "\n",
    "    criterion=best_params['criterion']\n",
    "    max_depth=best_params['max_depth']\n",
    "    max_features=best_params['max_features']\n",
    "    max_samples=best_params['max_samples']\n",
    "    n_estimators=best_params['n_estimators']\n",
    "\n",
    "\n",
    "\n",
    "    model=RandomForestRegressor(criterion=criterion, max_depth = max_depth, max_features = max_features, max_samples = max_samples, n_estimators = n_estimators)\n",
    "    model.fit(x_train, y_train)\n",
    "    y_pred=model.predict(x_test)\n",
    "\n",
    "    r2=r2_score(y_test, y_pred)\n",
    "    return model, r2\n"
   ]
  },
  {
   "cell_type": "code",
   "execution_count": 15,
   "id": "e5412a8a",
   "metadata": {
    "colab": {
     "base_uri": "https://localhost:8080/"
    },
    "executionInfo": {
     "elapsed": 746466,
     "status": "ok",
     "timestamp": 1654600911280,
     "user": {
      "displayName": "Sayan Saha",
      "userId": "14035823151145784235"
     },
     "user_tz": -330
    },
    "id": "5iQZThR0ax8M",
    "outputId": "61fede9d-2d66-4d8e-d331-56a74bf9fd9d"
   },
   "outputs": [
    {
     "name": "stdout",
     "output_type": "stream",
     "text": [
      "Cluster : 0  r2_xgb = 0.6466111820141753  r2_rf = 0.6301848253397073\n",
      "Cluster : 1  r2_xgb = 0.49763755153811384  r2_rf = 0.48675254681870084\n",
      "Cluster : 2  r2_xgb = 0.6501800223245447  r2_rf = 0.65448098545179\n",
      "Cluster : 3  r2_xgb = 0.45192535617040464  r2_rf = 0.4598933796629221\n"
     ]
    }
   ],
   "source": [
    "clusters=np.sort(train_df['Cluster'].unique())\n",
    "\n",
    "for i in clusters:\n",
    "    train=train_df[train_df['Cluster']==i]\n",
    "    test=test_df[test_df['Cluster']==i]\n",
    "\n",
    "\n",
    "    train_x=train.drop(columns=['Item_Outlet_Sales', 'Cluster'])\n",
    "    train_y=train['Item_Outlet_Sales']\n",
    "\n",
    "    test_x=test.drop(columns=['Item_Outlet_Sales', 'Cluster'])\n",
    "    test_y=test['Item_Outlet_Sales']\n",
    "\n",
    "    model_xgb, r2_xgb = get_best_param_xgb(train_x, train_y, test_x, test_y)\n",
    "    model_rf, r2_rf = get_best_param_rf(train_x, train_y, test_x, test_y)\n",
    "\n",
    "    if r2_xgb > r2_rf :\n",
    "      best_model, best_model_name = model_xgb, 'XGB'\n",
    "    else:\n",
    "      best_model, best_model_name = model_rf, 'RF'\n",
    "    \n",
    "    print(f'Cluster : {i}  r2_xgb = {r2_xgb}  r2_rf = {r2_rf}')\n",
    "\n",
    "    if not os.path.isdir('Models'):\n",
    "      os.mkdir('Models')\n",
    "    pickle.dump(best_model, open(f'Models/{best_model_name+str(i)}.pickle', 'wb'))\n",
    "\n"
   ]
  },
  {
   "cell_type": "code",
   "execution_count": 15,
   "id": "42dc234d",
   "metadata": {
    "executionInfo": {
     "elapsed": 23,
     "status": "ok",
     "timestamp": 1654600911280,
     "user": {
      "displayName": "Sayan Saha",
      "userId": "14035823151145784235"
     },
     "user_tz": -330
    },
    "id": "0BVFcdw-Dy_p"
   },
   "outputs": [],
   "source": []
  },
  {
   "cell_type": "code",
   "execution_count": 15,
   "id": "4fb00e5c",
   "metadata": {
    "executionInfo": {
     "elapsed": 17,
     "status": "ok",
     "timestamp": 1654600911281,
     "user": {
      "displayName": "Sayan Saha",
      "userId": "14035823151145784235"
     },
     "user_tz": -330
    },
    "id": "mLOlpmppJ5fd"
   },
   "outputs": [],
   "source": []
  }
 ],
 "metadata": {
  "colab": {
   "name": "Model Training.ipynb",
   "provenance": []
  },
  "kernelspec": {
   "display_name": "Python 3",
   "language": "python",
   "name": "python3"
  },
  "language_info": {
   "codemirror_mode": {
    "name": "ipython",
    "version": 3
   },
   "file_extension": ".py",
   "mimetype": "text/x-python",
   "name": "python",
   "nbconvert_exporter": "python",
   "pygments_lexer": "ipython3",
   "version": "3.8.5"
  }
 },
 "nbformat": 4,
 "nbformat_minor": 5
}
